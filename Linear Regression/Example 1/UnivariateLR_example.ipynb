{
 "cells": [
  {
   "cell_type": "code",
   "execution_count": 4,
   "metadata": {},
   "outputs": [],
   "source": [
    "import numpy as np"
   ]
  },
  {
   "cell_type": "code",
   "execution_count": 5,
   "metadata": {},
   "outputs": [],
   "source": [
    "\n",
    "def gradient_descent_runner(points, initial_b, initial_m, learning_rate, num_iterations):\n",
    "    b = initial_b\n",
    "    m = initial_m\n",
    "    \n",
    "    for i in range(num_iterations):\n",
    "        b, m = step_gradient(b, m, np.array(points), learning_rate)\n",
    "          \n",
    "    return [b, m]\n",
    "\n",
    "#Cost Function\n",
    "def compute_error_for_given_point(m, b):\n",
    "    totalError = 0\n",
    "    \n",
    "    for i in range(0, len(points)):\n",
    "        x = points[i,0]\n",
    "        y = points[i,1]\n",
    "        totalError+= ((m*x + b) - y)**2\n",
    "    return totalError/float(len(points))\n",
    "\n",
    "\n",
    "#Gradient Descent\n",
    "def step_gradient(current_b, current_m, points, learningRate):\n",
    "    b_gradient =0\n",
    "    m_gradient =0\n",
    "    N = float(len(points))\n",
    "    \n",
    "    for i in range(0, len(points)):\n",
    "        x = points[i,0]\n",
    "        y = points[i,1]\n",
    "        \n",
    "        b_gradient += (2/N) *(((current_m*x) + current_b) - y)\n",
    "        m_gradient += (2/N) *(((current_m*x) + current_b) - y)*x\n",
    "    \n",
    "        new_b = current_b - (learningRate*b_gradient)\n",
    "        new_m = current_m - (learningRate*m_gradient)\n",
    "    \n",
    "    return [new_b, new_m]\n"
   ]
  },
  {
   "cell_type": "code",
   "execution_count": 6,
   "metadata": {},
   "outputs": [
    {
     "data": {
      "text/plain": [
       "array([[32.50234527, 31.70700585],\n",
       "       [53.42680403, 68.77759598],\n",
       "       [61.53035803, 62.5623823 ],\n",
       "       [47.47563963, 71.54663223],\n",
       "       [59.81320787, 87.23092513]])"
      ]
     },
     "execution_count": 6,
     "metadata": {},
     "output_type": "execute_result"
    }
   ],
   "source": [
    "points = np.genfromtxt('data.csv',delimiter=',')\n",
    "points[0:5]"
   ]
  },
  {
   "cell_type": "code",
   "execution_count": 7,
   "metadata": {
    "scrolled": true
   },
   "outputs": [
    {
     "name": "stdout",
     "output_type": "stream",
     "text": [
      "Initial Parameters\n",
      "m: 0, b: 0\n",
      "Initial Prediction: 0.0\n",
      "Initial Error: 5565.107834483211\n"
     ]
    }
   ],
   "source": [
    "\n",
    "\n",
    "#hyperparameter\n",
    "learning_rate = 0.0001\n",
    "\n",
    "initial_b = 0\n",
    "initial_m = 0\n",
    "num_iterations = 100\n",
    "\n",
    "print('Initial Parameters')\n",
    "print('m: {}, b: {}'.format(initial_m, initial_b))\n",
    "\n",
    "#STEP1: Pridict/hypothesis/Objective/estimate (y = mx + b)\n",
    "y = initial_m*32.50234527 + initial_b\n",
    "print('Initial Prediction: {}'.format(y))\n",
    "      \n",
    "#STEP2: Error/Cost/loss \n",
    "Error = compute_error_for_given_point(initial_m, initial_b)\n",
    "print('Initial Error: {}'.format(Error))\n",
    "\n"
   ]
  },
  {
   "cell_type": "code",
   "execution_count": 8,
   "metadata": {
    "scrolled": true
   },
   "outputs": [
    {
     "name": "stdout",
     "output_type": "stream",
     "text": [
      "Training...\n"
     ]
    }
   ],
   "source": [
    "\n",
    "#STEP3: Training/learning/fitting \n",
    "print('Training...')\n",
    "[b, m] = gradient_descent_runner(points, initial_b, initial_m, learning_rate, num_iterations)\n"
   ]
  },
  {
   "cell_type": "code",
   "execution_count": 9,
   "metadata": {},
   "outputs": [
    {
     "name": "stdout",
     "output_type": "stream",
     "text": [
      "Training...Done\n",
      "New Parameters\n",
      "m: 1.4788027175308358, b: 0.03507497059234177\n",
      "New Prediction: 48.099631481993846\n",
      "New Error: 112.64705664288809\n"
     ]
    }
   ],
   "source": [
    "#After Backprobagation/Gradient descent\n",
    "print('Training...Done')\n",
    "print('New Parameters')\n",
    "print('m: {}, b: {}'.format(m, b))\n",
    "\n",
    "#New Prediction\n",
    "y = m*32.50234527 + b\n",
    "print('New Prediction: {}'.format(y))\n",
    "      \n",
    "#New Error\n",
    "Error = compute_error_for_given_point(m, b)\n",
    "print('New Error: {}'.format(Error))"
   ]
  },
  {
   "cell_type": "code",
   "execution_count": null,
   "metadata": {},
   "outputs": [],
   "source": []
  }
 ],
 "metadata": {
  "kernelspec": {
   "display_name": "Python 3",
   "language": "python",
   "name": "python3"
  },
  "language_info": {
   "codemirror_mode": {
    "name": "ipython",
    "version": 3
   },
   "file_extension": ".py",
   "mimetype": "text/x-python",
   "name": "python",
   "nbconvert_exporter": "python",
   "pygments_lexer": "ipython3",
   "version": "3.6.5"
  }
 },
 "nbformat": 4,
 "nbformat_minor": 2
}
